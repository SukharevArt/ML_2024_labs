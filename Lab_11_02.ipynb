{
 "cells": [
  {
   "cell_type": "markdown",
   "metadata": {
    "id": "ARhzPy7Rl5aB"
   },
   "source": [
    "# Описание задачи"
   ]
  },
  {
   "cell_type": "markdown",
   "metadata": {
    "id": "Na0URIhqmBg8"
   },
   "source": [
    "Дан датасет представляющий из себя 18 тысяч описаний вакансий, из которых около 800 - поддельные.Данные состоят из текстовой информации и метаинформации о вакансиях.\n",
    "\n",
    "По вакансии с 17 признаками необходимо опредить, к какому классу принадлежит вакансия: настоящая либо фальшивая.\n"
   ]
  },
  {
   "cell_type": "markdown",
   "metadata": {
    "id": "yi-8iigwnQ_1"
   },
   "source": [
    "# Чтение данных"
   ]
  },
  {
   "cell_type": "code",
   "execution_count": 22,
   "metadata": {
    "id": "BbhUe70cnfrW"
   },
   "outputs": [],
   "source": [
    "import numpy as np\n",
    "import pandas as pd\n",
    "import seaborn as sns\n",
    "import sklearn\n",
    "\n",
    "import matplotlib.pyplot as plt\n",
    "%matplotlib inline"
   ]
  },
  {
   "cell_type": "markdown",
   "metadata": {
    "id": "8hig4Xqtt1t9"
   },
   "source": [
    "# Визуализирование данных и вычисление основных характеристик (среднее, разброс, корреляционную матрицу и т.д.). Интерпретация."
   ]
  },
  {
   "cell_type": "code",
   "execution_count": 23,
   "metadata": {
    "colab": {
     "base_uri": "https://localhost:8080/",
     "height": 929
    },
    "id": "cZYxt3yHoJbv",
    "outputId": "2606be6c-9277-4f7a-b3b5-48390684f1f8"
   },
   "outputs": [
    {
     "data": {
      "text/html": [
       "<div>\n",
       "<style scoped>\n",
       "    .dataframe tbody tr th:only-of-type {\n",
       "        vertical-align: middle;\n",
       "    }\n",
       "\n",
       "    .dataframe tbody tr th {\n",
       "        vertical-align: top;\n",
       "    }\n",
       "\n",
       "    .dataframe thead th {\n",
       "        text-align: right;\n",
       "    }\n",
       "</style>\n",
       "<table border=\"1\" class=\"dataframe\">\n",
       "  <thead>\n",
       "    <tr style=\"text-align: right;\">\n",
       "      <th></th>\n",
       "      <th>job_id</th>\n",
       "      <th>title</th>\n",
       "      <th>location</th>\n",
       "      <th>department</th>\n",
       "      <th>salary_range</th>\n",
       "      <th>company_profile</th>\n",
       "      <th>description</th>\n",
       "      <th>requirements</th>\n",
       "      <th>benefits</th>\n",
       "      <th>telecommuting</th>\n",
       "      <th>has_company_logo</th>\n",
       "      <th>has_questions</th>\n",
       "      <th>employment_type</th>\n",
       "      <th>required_experience</th>\n",
       "      <th>required_education</th>\n",
       "      <th>industry</th>\n",
       "      <th>function</th>\n",
       "      <th>fraudulent</th>\n",
       "    </tr>\n",
       "  </thead>\n",
       "  <tbody>\n",
       "    <tr>\n",
       "      <th>0</th>\n",
       "      <td>1</td>\n",
       "      <td>Marketing Intern</td>\n",
       "      <td>US, NY, New York</td>\n",
       "      <td>Marketing</td>\n",
       "      <td>NaN</td>\n",
       "      <td>We're Food52, and we've created a groundbreaki...</td>\n",
       "      <td>Food52, a fast-growing, James Beard Award-winn...</td>\n",
       "      <td>Experience with content management systems a m...</td>\n",
       "      <td>NaN</td>\n",
       "      <td>0</td>\n",
       "      <td>1</td>\n",
       "      <td>0</td>\n",
       "      <td>Other</td>\n",
       "      <td>Internship</td>\n",
       "      <td>NaN</td>\n",
       "      <td>NaN</td>\n",
       "      <td>Marketing</td>\n",
       "      <td>0</td>\n",
       "    </tr>\n",
       "    <tr>\n",
       "      <th>1</th>\n",
       "      <td>2</td>\n",
       "      <td>Customer Service - Cloud Video Production</td>\n",
       "      <td>NZ, , Auckland</td>\n",
       "      <td>Success</td>\n",
       "      <td>NaN</td>\n",
       "      <td>90 Seconds, the worlds Cloud Video Production ...</td>\n",
       "      <td>Organised - Focused - Vibrant - Awesome!Do you...</td>\n",
       "      <td>What we expect from you:Your key responsibilit...</td>\n",
       "      <td>What you will get from usThrough being part of...</td>\n",
       "      <td>0</td>\n",
       "      <td>1</td>\n",
       "      <td>0</td>\n",
       "      <td>Full-time</td>\n",
       "      <td>Not Applicable</td>\n",
       "      <td>NaN</td>\n",
       "      <td>Marketing and Advertising</td>\n",
       "      <td>Customer Service</td>\n",
       "      <td>0</td>\n",
       "    </tr>\n",
       "    <tr>\n",
       "      <th>2</th>\n",
       "      <td>3</td>\n",
       "      <td>Commissioning Machinery Assistant (CMA)</td>\n",
       "      <td>US, IA, Wever</td>\n",
       "      <td>NaN</td>\n",
       "      <td>NaN</td>\n",
       "      <td>Valor Services provides Workforce Solutions th...</td>\n",
       "      <td>Our client, located in Houston, is actively se...</td>\n",
       "      <td>Implement pre-commissioning and commissioning ...</td>\n",
       "      <td>NaN</td>\n",
       "      <td>0</td>\n",
       "      <td>1</td>\n",
       "      <td>0</td>\n",
       "      <td>NaN</td>\n",
       "      <td>NaN</td>\n",
       "      <td>NaN</td>\n",
       "      <td>NaN</td>\n",
       "      <td>NaN</td>\n",
       "      <td>0</td>\n",
       "    </tr>\n",
       "    <tr>\n",
       "      <th>3</th>\n",
       "      <td>4</td>\n",
       "      <td>Account Executive - Washington DC</td>\n",
       "      <td>US, DC, Washington</td>\n",
       "      <td>Sales</td>\n",
       "      <td>NaN</td>\n",
       "      <td>Our passion for improving quality of life thro...</td>\n",
       "      <td>THE COMPANY: ESRI – Environmental Systems Rese...</td>\n",
       "      <td>EDUCATION: Bachelor’s or Master’s in GIS, busi...</td>\n",
       "      <td>Our culture is anything but corporate—we have ...</td>\n",
       "      <td>0</td>\n",
       "      <td>1</td>\n",
       "      <td>0</td>\n",
       "      <td>Full-time</td>\n",
       "      <td>Mid-Senior level</td>\n",
       "      <td>Bachelor's Degree</td>\n",
       "      <td>Computer Software</td>\n",
       "      <td>Sales</td>\n",
       "      <td>0</td>\n",
       "    </tr>\n",
       "    <tr>\n",
       "      <th>4</th>\n",
       "      <td>5</td>\n",
       "      <td>Bill Review Manager</td>\n",
       "      <td>US, FL, Fort Worth</td>\n",
       "      <td>NaN</td>\n",
       "      <td>NaN</td>\n",
       "      <td>SpotSource Solutions LLC is a Global Human Cap...</td>\n",
       "      <td>JOB TITLE: Itemization Review ManagerLOCATION:...</td>\n",
       "      <td>QUALIFICATIONS:RN license in the State of Texa...</td>\n",
       "      <td>Full Benefits Offered</td>\n",
       "      <td>0</td>\n",
       "      <td>1</td>\n",
       "      <td>1</td>\n",
       "      <td>Full-time</td>\n",
       "      <td>Mid-Senior level</td>\n",
       "      <td>Bachelor's Degree</td>\n",
       "      <td>Hospital &amp; Health Care</td>\n",
       "      <td>Health Care Provider</td>\n",
       "      <td>0</td>\n",
       "    </tr>\n",
       "    <tr>\n",
       "      <th>...</th>\n",
       "      <td>...</td>\n",
       "      <td>...</td>\n",
       "      <td>...</td>\n",
       "      <td>...</td>\n",
       "      <td>...</td>\n",
       "      <td>...</td>\n",
       "      <td>...</td>\n",
       "      <td>...</td>\n",
       "      <td>...</td>\n",
       "      <td>...</td>\n",
       "      <td>...</td>\n",
       "      <td>...</td>\n",
       "      <td>...</td>\n",
       "      <td>...</td>\n",
       "      <td>...</td>\n",
       "      <td>...</td>\n",
       "      <td>...</td>\n",
       "      <td>...</td>\n",
       "    </tr>\n",
       "    <tr>\n",
       "      <th>17875</th>\n",
       "      <td>17876</td>\n",
       "      <td>Account Director - Distribution</td>\n",
       "      <td>CA, ON, Toronto</td>\n",
       "      <td>Sales</td>\n",
       "      <td>NaN</td>\n",
       "      <td>Vend is looking for some awesome new talent to...</td>\n",
       "      <td>Just in case this is the first time you’ve vis...</td>\n",
       "      <td>To ace this role you:Will eat comprehensive St...</td>\n",
       "      <td>What can you expect from us?We have an open cu...</td>\n",
       "      <td>0</td>\n",
       "      <td>1</td>\n",
       "      <td>1</td>\n",
       "      <td>Full-time</td>\n",
       "      <td>Mid-Senior level</td>\n",
       "      <td>NaN</td>\n",
       "      <td>Computer Software</td>\n",
       "      <td>Sales</td>\n",
       "      <td>0</td>\n",
       "    </tr>\n",
       "    <tr>\n",
       "      <th>17876</th>\n",
       "      <td>17877</td>\n",
       "      <td>Payroll Accountant</td>\n",
       "      <td>US, PA, Philadelphia</td>\n",
       "      <td>Accounting</td>\n",
       "      <td>NaN</td>\n",
       "      <td>WebLinc is the e-commerce platform and service...</td>\n",
       "      <td>The Payroll Accountant will focus primarily on...</td>\n",
       "      <td>- B.A. or B.S. in Accounting- Desire to have f...</td>\n",
       "      <td>Health &amp;amp; WellnessMedical planPrescription ...</td>\n",
       "      <td>0</td>\n",
       "      <td>1</td>\n",
       "      <td>1</td>\n",
       "      <td>Full-time</td>\n",
       "      <td>Mid-Senior level</td>\n",
       "      <td>Bachelor's Degree</td>\n",
       "      <td>Internet</td>\n",
       "      <td>Accounting/Auditing</td>\n",
       "      <td>0</td>\n",
       "    </tr>\n",
       "    <tr>\n",
       "      <th>17877</th>\n",
       "      <td>17878</td>\n",
       "      <td>Project Cost Control Staff Engineer - Cost Con...</td>\n",
       "      <td>US, TX, Houston</td>\n",
       "      <td>NaN</td>\n",
       "      <td>NaN</td>\n",
       "      <td>We Provide Full Time Permanent Positions for m...</td>\n",
       "      <td>Experienced Project Cost Control Staff Enginee...</td>\n",
       "      <td>At least 12 years professional experience.Abil...</td>\n",
       "      <td>NaN</td>\n",
       "      <td>0</td>\n",
       "      <td>0</td>\n",
       "      <td>0</td>\n",
       "      <td>Full-time</td>\n",
       "      <td>NaN</td>\n",
       "      <td>NaN</td>\n",
       "      <td>NaN</td>\n",
       "      <td>NaN</td>\n",
       "      <td>0</td>\n",
       "    </tr>\n",
       "    <tr>\n",
       "      <th>17878</th>\n",
       "      <td>17879</td>\n",
       "      <td>Graphic Designer</td>\n",
       "      <td>NG, LA, Lagos</td>\n",
       "      <td>NaN</td>\n",
       "      <td>NaN</td>\n",
       "      <td>NaN</td>\n",
       "      <td>Nemsia Studios is looking for an experienced v...</td>\n",
       "      <td>1. Must be fluent in the latest versions of Co...</td>\n",
       "      <td>Competitive salary (compensation will be based...</td>\n",
       "      <td>0</td>\n",
       "      <td>0</td>\n",
       "      <td>1</td>\n",
       "      <td>Contract</td>\n",
       "      <td>Not Applicable</td>\n",
       "      <td>Professional</td>\n",
       "      <td>Graphic Design</td>\n",
       "      <td>Design</td>\n",
       "      <td>0</td>\n",
       "    </tr>\n",
       "    <tr>\n",
       "      <th>17879</th>\n",
       "      <td>17880</td>\n",
       "      <td>Web Application Developers</td>\n",
       "      <td>NZ, N, Wellington</td>\n",
       "      <td>Engineering</td>\n",
       "      <td>NaN</td>\n",
       "      <td>Vend is looking for some awesome new talent to...</td>\n",
       "      <td>Who are we?Vend is an award winning web based ...</td>\n",
       "      <td>We want to hear from you if:You have an in-dep...</td>\n",
       "      <td>NaN</td>\n",
       "      <td>0</td>\n",
       "      <td>1</td>\n",
       "      <td>1</td>\n",
       "      <td>Full-time</td>\n",
       "      <td>Mid-Senior level</td>\n",
       "      <td>NaN</td>\n",
       "      <td>Computer Software</td>\n",
       "      <td>Engineering</td>\n",
       "      <td>0</td>\n",
       "    </tr>\n",
       "  </tbody>\n",
       "</table>\n",
       "<p>17880 rows × 18 columns</p>\n",
       "</div>"
      ],
      "text/plain": [
       "       job_id                                              title  \\\n",
       "0           1                                   Marketing Intern   \n",
       "1           2          Customer Service - Cloud Video Production   \n",
       "2           3            Commissioning Machinery Assistant (CMA)   \n",
       "3           4                  Account Executive - Washington DC   \n",
       "4           5                                Bill Review Manager   \n",
       "...       ...                                                ...   \n",
       "17875   17876                   Account Director - Distribution    \n",
       "17876   17877                                 Payroll Accountant   \n",
       "17877   17878  Project Cost Control Staff Engineer - Cost Con...   \n",
       "17878   17879                                   Graphic Designer   \n",
       "17879   17880                         Web Application Developers   \n",
       "\n",
       "                   location   department salary_range  \\\n",
       "0          US, NY, New York    Marketing          NaN   \n",
       "1            NZ, , Auckland      Success          NaN   \n",
       "2             US, IA, Wever          NaN          NaN   \n",
       "3        US, DC, Washington        Sales          NaN   \n",
       "4        US, FL, Fort Worth          NaN          NaN   \n",
       "...                     ...          ...          ...   \n",
       "17875       CA, ON, Toronto        Sales          NaN   \n",
       "17876  US, PA, Philadelphia   Accounting          NaN   \n",
       "17877       US, TX, Houston          NaN          NaN   \n",
       "17878         NG, LA, Lagos          NaN          NaN   \n",
       "17879     NZ, N, Wellington  Engineering          NaN   \n",
       "\n",
       "                                         company_profile  \\\n",
       "0      We're Food52, and we've created a groundbreaki...   \n",
       "1      90 Seconds, the worlds Cloud Video Production ...   \n",
       "2      Valor Services provides Workforce Solutions th...   \n",
       "3      Our passion for improving quality of life thro...   \n",
       "4      SpotSource Solutions LLC is a Global Human Cap...   \n",
       "...                                                  ...   \n",
       "17875  Vend is looking for some awesome new talent to...   \n",
       "17876  WebLinc is the e-commerce platform and service...   \n",
       "17877  We Provide Full Time Permanent Positions for m...   \n",
       "17878                                                NaN   \n",
       "17879  Vend is looking for some awesome new talent to...   \n",
       "\n",
       "                                             description  \\\n",
       "0      Food52, a fast-growing, James Beard Award-winn...   \n",
       "1      Organised - Focused - Vibrant - Awesome!Do you...   \n",
       "2      Our client, located in Houston, is actively se...   \n",
       "3      THE COMPANY: ESRI – Environmental Systems Rese...   \n",
       "4      JOB TITLE: Itemization Review ManagerLOCATION:...   \n",
       "...                                                  ...   \n",
       "17875  Just in case this is the first time you’ve vis...   \n",
       "17876  The Payroll Accountant will focus primarily on...   \n",
       "17877  Experienced Project Cost Control Staff Enginee...   \n",
       "17878  Nemsia Studios is looking for an experienced v...   \n",
       "17879  Who are we?Vend is an award winning web based ...   \n",
       "\n",
       "                                            requirements  \\\n",
       "0      Experience with content management systems a m...   \n",
       "1      What we expect from you:Your key responsibilit...   \n",
       "2      Implement pre-commissioning and commissioning ...   \n",
       "3      EDUCATION: Bachelor’s or Master’s in GIS, busi...   \n",
       "4      QUALIFICATIONS:RN license in the State of Texa...   \n",
       "...                                                  ...   \n",
       "17875  To ace this role you:Will eat comprehensive St...   \n",
       "17876  - B.A. or B.S. in Accounting- Desire to have f...   \n",
       "17877  At least 12 years professional experience.Abil...   \n",
       "17878  1. Must be fluent in the latest versions of Co...   \n",
       "17879  We want to hear from you if:You have an in-dep...   \n",
       "\n",
       "                                                benefits  telecommuting  \\\n",
       "0                                                    NaN              0   \n",
       "1      What you will get from usThrough being part of...              0   \n",
       "2                                                    NaN              0   \n",
       "3      Our culture is anything but corporate—we have ...              0   \n",
       "4                                  Full Benefits Offered              0   \n",
       "...                                                  ...            ...   \n",
       "17875  What can you expect from us?We have an open cu...              0   \n",
       "17876  Health &amp; WellnessMedical planPrescription ...              0   \n",
       "17877                                                NaN              0   \n",
       "17878  Competitive salary (compensation will be based...              0   \n",
       "17879                                                NaN              0   \n",
       "\n",
       "       has_company_logo  has_questions employment_type required_experience  \\\n",
       "0                     1              0           Other          Internship   \n",
       "1                     1              0       Full-time      Not Applicable   \n",
       "2                     1              0             NaN                 NaN   \n",
       "3                     1              0       Full-time    Mid-Senior level   \n",
       "4                     1              1       Full-time    Mid-Senior level   \n",
       "...                 ...            ...             ...                 ...   \n",
       "17875                 1              1       Full-time    Mid-Senior level   \n",
       "17876                 1              1       Full-time    Mid-Senior level   \n",
       "17877                 0              0       Full-time                 NaN   \n",
       "17878                 0              1        Contract      Not Applicable   \n",
       "17879                 1              1       Full-time    Mid-Senior level   \n",
       "\n",
       "      required_education                   industry              function  \\\n",
       "0                    NaN                        NaN             Marketing   \n",
       "1                    NaN  Marketing and Advertising      Customer Service   \n",
       "2                    NaN                        NaN                   NaN   \n",
       "3      Bachelor's Degree          Computer Software                 Sales   \n",
       "4      Bachelor's Degree     Hospital & Health Care  Health Care Provider   \n",
       "...                  ...                        ...                   ...   \n",
       "17875                NaN          Computer Software                 Sales   \n",
       "17876  Bachelor's Degree                   Internet   Accounting/Auditing   \n",
       "17877                NaN                        NaN                   NaN   \n",
       "17878       Professional             Graphic Design                Design   \n",
       "17879                NaN          Computer Software           Engineering   \n",
       "\n",
       "       fraudulent  \n",
       "0               0  \n",
       "1               0  \n",
       "2               0  \n",
       "3               0  \n",
       "4               0  \n",
       "...           ...  \n",
       "17875           0  \n",
       "17876           0  \n",
       "17877           0  \n",
       "17878           0  \n",
       "17879           0  \n",
       "\n",
       "[17880 rows x 18 columns]"
      ]
     },
     "execution_count": 23,
     "metadata": {},
     "output_type": "execute_result"
    }
   ],
   "source": [
    "df = pd.read_csv(\"fake_job_postings.csv\")\n",
    "df"
   ]
  },
  {
   "cell_type": "code",
   "execution_count": 24,
   "metadata": {
    "colab": {
     "base_uri": "https://localhost:8080/"
    },
    "id": "8sHVFrkBuJzh",
    "outputId": "4bd84165-3bf2-4a4b-b048-a205aae0d310"
   },
   "outputs": [
    {
     "data": {
      "text/plain": [
       "(17880, 18)"
      ]
     },
     "execution_count": 24,
     "metadata": {},
     "output_type": "execute_result"
    }
   ],
   "source": [
    "df.shape"
   ]
  },
  {
   "cell_type": "code",
   "execution_count": 25,
   "metadata": {
    "colab": {
     "base_uri": "https://localhost:8080/"
    },
    "id": "SddBHEdSuftW",
    "outputId": "244f8a01-b66b-48fe-ae40-2a29a27c6b33"
   },
   "outputs": [
    {
     "name": "stdout",
     "output_type": "stream",
     "text": [
      "<class 'pandas.core.frame.DataFrame'>\n",
      "RangeIndex: 17880 entries, 0 to 17879\n",
      "Data columns (total 18 columns):\n",
      " #   Column               Non-Null Count  Dtype \n",
      "---  ------               --------------  ----- \n",
      " 0   job_id               17880 non-null  int64 \n",
      " 1   title                17880 non-null  object\n",
      " 2   location             17534 non-null  object\n",
      " 3   department           6333 non-null   object\n",
      " 4   salary_range         2868 non-null   object\n",
      " 5   company_profile      14572 non-null  object\n",
      " 6   description          17879 non-null  object\n",
      " 7   requirements         15184 non-null  object\n",
      " 8   benefits             10668 non-null  object\n",
      " 9   telecommuting        17880 non-null  int64 \n",
      " 10  has_company_logo     17880 non-null  int64 \n",
      " 11  has_questions        17880 non-null  int64 \n",
      " 12  employment_type      14409 non-null  object\n",
      " 13  required_experience  10830 non-null  object\n",
      " 14  required_education   9775 non-null   object\n",
      " 15  industry             12977 non-null  object\n",
      " 16  function             11425 non-null  object\n",
      " 17  fraudulent           17880 non-null  int64 \n",
      "dtypes: int64(5), object(13)\n",
      "memory usage: 2.5+ MB\n"
     ]
    }
   ],
   "source": [
    "df.info()"
   ]
  },
  {
   "cell_type": "markdown",
   "metadata": {
    "id": "RXxlovXWwf7v"
   },
   "source": [
    "Признаки:\n",
    "1. job_id - уникальный идентификатор вакансии\n",
    "\n",
    "2. title - Заголовок объявления о вакансии.\n",
    "\n",
    "3. location - Географическое расположение вакансии.\n",
    "\n",
    "4. department - Корпоративный отдел (например, продажи).\n",
    "\n",
    "5. salary_range - Ориентировочный диапазон заработной платы (например, от 50 000 до 60 000 долларов США).\n",
    "\n",
    "6. company_profile - Краткое описание компании.\n",
    "\n",
    "7. description - Подробное описание вакансии.\n",
    "\n",
    "8. requirements - требования к сотруднику.\n",
    "\n",
    "9. benefits - льготы от работодателя.\n",
    "\n",
    "10. telecommuting - удаленная работа (true - да, false - нет).\n",
    "\n",
    "11. has_company_logo - Наличие логотипа компании (true - да, false - нет).\n",
    "\n",
    "12. has_questions - Проверочные вопросы при устройстве (true - да, false - нет).\n",
    "\n",
    "13. employment_type - Полный, Неполный рабочий день, Контракт и т. д.\n",
    "\n",
    "14. required_experience - Исполнительный, Начальный уровень, Стажер и т. д.\n",
    "\n",
    "15. required_education - Докторантура, степень магистра, бакалавр и т. д.\n",
    "\n",
    "16. industry - Автомобильная промышленность, информационные технологии, здравоохранение, недвижимость и т. д.\n",
    "\n",
    "17. functions - Консультации, инжиниринг, исследования, продажи и т. д.\n",
    "\n",
    "18. fraudulent - атрибут классификации (0 - оригинальная вакансия, 1 - фальшивая вакансия)"
   ]
  },
  {
   "cell_type": "code",
   "execution_count": 26,
   "metadata": {
    "colab": {
     "base_uri": "https://localhost:8080/",
     "height": 300
    },
    "id": "tKufesmcv_BY",
    "outputId": "f0b04240-464b-4895-983f-e14e98e52451"
   },
   "outputs": [
    {
     "data": {
      "text/html": [
       "<div>\n",
       "<style scoped>\n",
       "    .dataframe tbody tr th:only-of-type {\n",
       "        vertical-align: middle;\n",
       "    }\n",
       "\n",
       "    .dataframe tbody tr th {\n",
       "        vertical-align: top;\n",
       "    }\n",
       "\n",
       "    .dataframe thead th {\n",
       "        text-align: right;\n",
       "    }\n",
       "</style>\n",
       "<table border=\"1\" class=\"dataframe\">\n",
       "  <thead>\n",
       "    <tr style=\"text-align: right;\">\n",
       "      <th></th>\n",
       "      <th>job_id</th>\n",
       "      <th>telecommuting</th>\n",
       "      <th>has_company_logo</th>\n",
       "      <th>has_questions</th>\n",
       "      <th>fraudulent</th>\n",
       "    </tr>\n",
       "  </thead>\n",
       "  <tbody>\n",
       "    <tr>\n",
       "      <th>count</th>\n",
       "      <td>17880.000000</td>\n",
       "      <td>17880.000000</td>\n",
       "      <td>17880.000000</td>\n",
       "      <td>17880.000000</td>\n",
       "      <td>17880.000000</td>\n",
       "    </tr>\n",
       "    <tr>\n",
       "      <th>mean</th>\n",
       "      <td>8940.500000</td>\n",
       "      <td>0.042897</td>\n",
       "      <td>0.795302</td>\n",
       "      <td>0.491723</td>\n",
       "      <td>0.048434</td>\n",
       "    </tr>\n",
       "    <tr>\n",
       "      <th>std</th>\n",
       "      <td>5161.655742</td>\n",
       "      <td>0.202631</td>\n",
       "      <td>0.403492</td>\n",
       "      <td>0.499945</td>\n",
       "      <td>0.214688</td>\n",
       "    </tr>\n",
       "    <tr>\n",
       "      <th>min</th>\n",
       "      <td>1.000000</td>\n",
       "      <td>0.000000</td>\n",
       "      <td>0.000000</td>\n",
       "      <td>0.000000</td>\n",
       "      <td>0.000000</td>\n",
       "    </tr>\n",
       "    <tr>\n",
       "      <th>25%</th>\n",
       "      <td>4470.750000</td>\n",
       "      <td>0.000000</td>\n",
       "      <td>1.000000</td>\n",
       "      <td>0.000000</td>\n",
       "      <td>0.000000</td>\n",
       "    </tr>\n",
       "    <tr>\n",
       "      <th>50%</th>\n",
       "      <td>8940.500000</td>\n",
       "      <td>0.000000</td>\n",
       "      <td>1.000000</td>\n",
       "      <td>0.000000</td>\n",
       "      <td>0.000000</td>\n",
       "    </tr>\n",
       "    <tr>\n",
       "      <th>75%</th>\n",
       "      <td>13410.250000</td>\n",
       "      <td>0.000000</td>\n",
       "      <td>1.000000</td>\n",
       "      <td>1.000000</td>\n",
       "      <td>0.000000</td>\n",
       "    </tr>\n",
       "    <tr>\n",
       "      <th>max</th>\n",
       "      <td>17880.000000</td>\n",
       "      <td>1.000000</td>\n",
       "      <td>1.000000</td>\n",
       "      <td>1.000000</td>\n",
       "      <td>1.000000</td>\n",
       "    </tr>\n",
       "  </tbody>\n",
       "</table>\n",
       "</div>"
      ],
      "text/plain": [
       "             job_id  telecommuting  has_company_logo  has_questions  \\\n",
       "count  17880.000000   17880.000000      17880.000000   17880.000000   \n",
       "mean    8940.500000       0.042897          0.795302       0.491723   \n",
       "std     5161.655742       0.202631          0.403492       0.499945   \n",
       "min        1.000000       0.000000          0.000000       0.000000   \n",
       "25%     4470.750000       0.000000          1.000000       0.000000   \n",
       "50%     8940.500000       0.000000          1.000000       0.000000   \n",
       "75%    13410.250000       0.000000          1.000000       1.000000   \n",
       "max    17880.000000       1.000000          1.000000       1.000000   \n",
       "\n",
       "         fraudulent  \n",
       "count  17880.000000  \n",
       "mean       0.048434  \n",
       "std        0.214688  \n",
       "min        0.000000  \n",
       "25%        0.000000  \n",
       "50%        0.000000  \n",
       "75%        0.000000  \n",
       "max        1.000000  "
      ]
     },
     "execution_count": 26,
     "metadata": {},
     "output_type": "execute_result"
    }
   ],
   "source": [
    "df.describe()"
   ]
  },
  {
   "cell_type": "markdown",
   "metadata": {
    "id": "scbXpCmf2xTp"
   },
   "source": [
    "# Обработка пропущенных значений"
   ]
  },
  {
   "cell_type": "code",
   "execution_count": 27,
   "metadata": {
    "id": "pngnnF6H4MAh"
   },
   "outputs": [],
   "source": [
    "df=df.drop(['job_id','department','salary_range','description',\n",
    "            'title','company_profile','benefits','requirements'],axis=1)\n"
   ]
  },
  {
   "cell_type": "code",
   "execution_count": 28,
   "metadata": {
    "colab": {
     "base_uri": "https://localhost:8080/"
    },
    "id": "HmEUe_dA26sr",
    "outputId": "68f984f1-6674-4ccf-f739-98c3902e5614"
   },
   "outputs": [
    {
     "data": {
      "text/plain": [
       "location                346\n",
       "telecommuting             0\n",
       "has_company_logo          0\n",
       "has_questions             0\n",
       "employment_type        3471\n",
       "required_experience    7050\n",
       "required_education     8105\n",
       "industry               4903\n",
       "function               6455\n",
       "fraudulent                0\n",
       "dtype: int64"
      ]
     },
     "execution_count": 28,
     "metadata": {},
     "output_type": "execute_result"
    }
   ],
   "source": [
    "df.isnull().sum()"
   ]
  },
  {
   "cell_type": "markdown",
   "metadata": {
    "id": "KmKBgmnS4_-r"
   },
   "source": [
    "Из-за обилия нулевых значений в некоторых категориальных признаках, удалить строки или столбцы нельзя. Поэтому лучше заполнить их пустыми значениями.\n"
   ]
  },
  {
   "cell_type": "code",
   "execution_count": 29,
   "metadata": {
    "colab": {
     "base_uri": "https://localhost:8080/"
    },
    "id": "ayRzfhVN5RY6",
    "outputId": "a2f002c8-4d0c-42d6-bdca-b833b1585029"
   },
   "outputs": [
    {
     "data": {
      "text/plain": [
       "location               0\n",
       "telecommuting          0\n",
       "has_company_logo       0\n",
       "has_questions          0\n",
       "employment_type        0\n",
       "required_experience    0\n",
       "required_education     0\n",
       "industry               0\n",
       "function               0\n",
       "fraudulent             0\n",
       "dtype: int64"
      ]
     },
     "execution_count": 29,
     "metadata": {},
     "output_type": "execute_result"
    }
   ],
   "source": [
    "df.fillna(\" \",inplace = True)\n",
    "df.isnull().sum()"
   ]
  },
  {
   "cell_type": "markdown",
   "metadata": {
    "id": "CL84aRBj6qwI"
   },
   "source": [
    "#  Обработка категориальных признаков"
   ]
  },
  {
   "cell_type": "code",
   "execution_count": 30,
   "metadata": {
    "colab": {
     "base_uri": "https://localhost:8080/",
     "height": 174
    },
    "id": "PAytYY4kyi4f",
    "outputId": "b8868714-3c9a-4024-f12b-7bd329b91993"
   },
   "outputs": [
    {
     "data": {
      "text/html": [
       "<div>\n",
       "<style scoped>\n",
       "    .dataframe tbody tr th:only-of-type {\n",
       "        vertical-align: middle;\n",
       "    }\n",
       "\n",
       "    .dataframe tbody tr th {\n",
       "        vertical-align: top;\n",
       "    }\n",
       "\n",
       "    .dataframe thead th {\n",
       "        text-align: right;\n",
       "    }\n",
       "</style>\n",
       "<table border=\"1\" class=\"dataframe\">\n",
       "  <thead>\n",
       "    <tr style=\"text-align: right;\">\n",
       "      <th></th>\n",
       "      <th>location</th>\n",
       "      <th>employment_type</th>\n",
       "      <th>required_experience</th>\n",
       "      <th>required_education</th>\n",
       "      <th>industry</th>\n",
       "      <th>function</th>\n",
       "    </tr>\n",
       "  </thead>\n",
       "  <tbody>\n",
       "    <tr>\n",
       "      <th>count</th>\n",
       "      <td>17880</td>\n",
       "      <td>17880</td>\n",
       "      <td>17880</td>\n",
       "      <td>17880</td>\n",
       "      <td>17880</td>\n",
       "      <td>17880</td>\n",
       "    </tr>\n",
       "    <tr>\n",
       "      <th>unique</th>\n",
       "      <td>3106</td>\n",
       "      <td>6</td>\n",
       "      <td>8</td>\n",
       "      <td>14</td>\n",
       "      <td>132</td>\n",
       "      <td>38</td>\n",
       "    </tr>\n",
       "    <tr>\n",
       "      <th>top</th>\n",
       "      <td>GB, LND, London</td>\n",
       "      <td>Full-time</td>\n",
       "      <td></td>\n",
       "      <td></td>\n",
       "      <td></td>\n",
       "      <td></td>\n",
       "    </tr>\n",
       "    <tr>\n",
       "      <th>freq</th>\n",
       "      <td>718</td>\n",
       "      <td>11620</td>\n",
       "      <td>7050</td>\n",
       "      <td>8105</td>\n",
       "      <td>4903</td>\n",
       "      <td>6455</td>\n",
       "    </tr>\n",
       "  </tbody>\n",
       "</table>\n",
       "</div>"
      ],
      "text/plain": [
       "               location employment_type required_experience  \\\n",
       "count             17880           17880               17880   \n",
       "unique             3106               6                   8   \n",
       "top     GB, LND, London       Full-time                       \n",
       "freq                718           11620                7050   \n",
       "\n",
       "       required_education industry function  \n",
       "count               17880    17880    17880  \n",
       "unique                 14      132       38  \n",
       "top                                          \n",
       "freq                 8105     4903     6455  "
      ]
     },
     "execution_count": 30,
     "metadata": {},
     "output_type": "execute_result"
    }
   ],
   "source": [
    "df['location'] = df['location'].astype('category')\n",
    "df['employment_type'] = df['employment_type'].astype('category')\n",
    "df['required_experience'] = df['required_experience'].astype('category')\n",
    "df['required_education'] = df['required_education'].astype('category')\n",
    "df['industry'] = df['industry'].astype('category')\n",
    "df['function'] = df['function'].astype('category')\n",
    "df.describe(include=[\"category\"])"
   ]
  },
  {
   "cell_type": "code",
   "execution_count": 31,
   "metadata": {
    "colab": {
     "base_uri": "https://localhost:8080/",
     "height": 443
    },
    "id": "0SNaFDW17aXU",
    "outputId": "04ca213d-5dc0-452b-e6e4-3c857da7a380"
   },
   "outputs": [
    {
     "data": {
      "text/html": [
       "<div>\n",
       "<style scoped>\n",
       "    .dataframe tbody tr th:only-of-type {\n",
       "        vertical-align: middle;\n",
       "    }\n",
       "\n",
       "    .dataframe tbody tr th {\n",
       "        vertical-align: top;\n",
       "    }\n",
       "\n",
       "    .dataframe thead th {\n",
       "        text-align: right;\n",
       "    }\n",
       "</style>\n",
       "<table border=\"1\" class=\"dataframe\">\n",
       "  <thead>\n",
       "    <tr style=\"text-align: right;\">\n",
       "      <th></th>\n",
       "      <th>location</th>\n",
       "      <th>telecommuting</th>\n",
       "      <th>has_company_logo</th>\n",
       "      <th>has_questions</th>\n",
       "      <th>employment_type</th>\n",
       "      <th>required_experience</th>\n",
       "      <th>required_education</th>\n",
       "      <th>industry</th>\n",
       "      <th>function</th>\n",
       "      <th>fraudulent</th>\n",
       "    </tr>\n",
       "  </thead>\n",
       "  <tbody>\n",
       "    <tr>\n",
       "      <th>0</th>\n",
       "      <td>US, NY, New York</td>\n",
       "      <td>0</td>\n",
       "      <td>1</td>\n",
       "      <td>0</td>\n",
       "      <td>Other</td>\n",
       "      <td>Internship</td>\n",
       "      <td></td>\n",
       "      <td></td>\n",
       "      <td>Marketing</td>\n",
       "      <td>0</td>\n",
       "    </tr>\n",
       "    <tr>\n",
       "      <th>1</th>\n",
       "      <td>NZ, , Auckland</td>\n",
       "      <td>0</td>\n",
       "      <td>1</td>\n",
       "      <td>0</td>\n",
       "      <td>Full-time</td>\n",
       "      <td>Not Applicable</td>\n",
       "      <td></td>\n",
       "      <td>Marketing and Advertising</td>\n",
       "      <td>Customer Service</td>\n",
       "      <td>0</td>\n",
       "    </tr>\n",
       "    <tr>\n",
       "      <th>2</th>\n",
       "      <td>US, IA, Wever</td>\n",
       "      <td>0</td>\n",
       "      <td>1</td>\n",
       "      <td>0</td>\n",
       "      <td></td>\n",
       "      <td></td>\n",
       "      <td></td>\n",
       "      <td></td>\n",
       "      <td></td>\n",
       "      <td>0</td>\n",
       "    </tr>\n",
       "    <tr>\n",
       "      <th>3</th>\n",
       "      <td>US, DC, Washington</td>\n",
       "      <td>0</td>\n",
       "      <td>1</td>\n",
       "      <td>0</td>\n",
       "      <td>Full-time</td>\n",
       "      <td>Mid-Senior level</td>\n",
       "      <td>Bachelor's Degree</td>\n",
       "      <td>Computer Software</td>\n",
       "      <td>Sales</td>\n",
       "      <td>0</td>\n",
       "    </tr>\n",
       "    <tr>\n",
       "      <th>4</th>\n",
       "      <td>US, FL, Fort Worth</td>\n",
       "      <td>0</td>\n",
       "      <td>1</td>\n",
       "      <td>1</td>\n",
       "      <td>Full-time</td>\n",
       "      <td>Mid-Senior level</td>\n",
       "      <td>Bachelor's Degree</td>\n",
       "      <td>Hospital &amp; Health Care</td>\n",
       "      <td>Health Care Provider</td>\n",
       "      <td>0</td>\n",
       "    </tr>\n",
       "    <tr>\n",
       "      <th>...</th>\n",
       "      <td>...</td>\n",
       "      <td>...</td>\n",
       "      <td>...</td>\n",
       "      <td>...</td>\n",
       "      <td>...</td>\n",
       "      <td>...</td>\n",
       "      <td>...</td>\n",
       "      <td>...</td>\n",
       "      <td>...</td>\n",
       "      <td>...</td>\n",
       "    </tr>\n",
       "    <tr>\n",
       "      <th>17875</th>\n",
       "      <td>CA, ON, Toronto</td>\n",
       "      <td>0</td>\n",
       "      <td>1</td>\n",
       "      <td>1</td>\n",
       "      <td>Full-time</td>\n",
       "      <td>Mid-Senior level</td>\n",
       "      <td></td>\n",
       "      <td>Computer Software</td>\n",
       "      <td>Sales</td>\n",
       "      <td>0</td>\n",
       "    </tr>\n",
       "    <tr>\n",
       "      <th>17876</th>\n",
       "      <td>US, PA, Philadelphia</td>\n",
       "      <td>0</td>\n",
       "      <td>1</td>\n",
       "      <td>1</td>\n",
       "      <td>Full-time</td>\n",
       "      <td>Mid-Senior level</td>\n",
       "      <td>Bachelor's Degree</td>\n",
       "      <td>Internet</td>\n",
       "      <td>Accounting/Auditing</td>\n",
       "      <td>0</td>\n",
       "    </tr>\n",
       "    <tr>\n",
       "      <th>17877</th>\n",
       "      <td>US, TX, Houston</td>\n",
       "      <td>0</td>\n",
       "      <td>0</td>\n",
       "      <td>0</td>\n",
       "      <td>Full-time</td>\n",
       "      <td></td>\n",
       "      <td></td>\n",
       "      <td></td>\n",
       "      <td></td>\n",
       "      <td>0</td>\n",
       "    </tr>\n",
       "    <tr>\n",
       "      <th>17878</th>\n",
       "      <td>NG, LA, Lagos</td>\n",
       "      <td>0</td>\n",
       "      <td>0</td>\n",
       "      <td>1</td>\n",
       "      <td>Contract</td>\n",
       "      <td>Not Applicable</td>\n",
       "      <td>Professional</td>\n",
       "      <td>Graphic Design</td>\n",
       "      <td>Design</td>\n",
       "      <td>0</td>\n",
       "    </tr>\n",
       "    <tr>\n",
       "      <th>17879</th>\n",
       "      <td>NZ, N, Wellington</td>\n",
       "      <td>0</td>\n",
       "      <td>1</td>\n",
       "      <td>1</td>\n",
       "      <td>Full-time</td>\n",
       "      <td>Mid-Senior level</td>\n",
       "      <td></td>\n",
       "      <td>Computer Software</td>\n",
       "      <td>Engineering</td>\n",
       "      <td>0</td>\n",
       "    </tr>\n",
       "  </tbody>\n",
       "</table>\n",
       "<p>17880 rows × 10 columns</p>\n",
       "</div>"
      ],
      "text/plain": [
       "                   location  telecommuting  has_company_logo  has_questions  \\\n",
       "0          US, NY, New York              0                 1              0   \n",
       "1            NZ, , Auckland              0                 1              0   \n",
       "2             US, IA, Wever              0                 1              0   \n",
       "3        US, DC, Washington              0                 1              0   \n",
       "4        US, FL, Fort Worth              0                 1              1   \n",
       "...                     ...            ...               ...            ...   \n",
       "17875       CA, ON, Toronto              0                 1              1   \n",
       "17876  US, PA, Philadelphia              0                 1              1   \n",
       "17877       US, TX, Houston              0                 0              0   \n",
       "17878         NG, LA, Lagos              0                 0              1   \n",
       "17879     NZ, N, Wellington              0                 1              1   \n",
       "\n",
       "      employment_type required_experience required_education  \\\n",
       "0               Other          Internship                      \n",
       "1           Full-time      Not Applicable                      \n",
       "2                                                              \n",
       "3           Full-time    Mid-Senior level  Bachelor's Degree   \n",
       "4           Full-time    Mid-Senior level  Bachelor's Degree   \n",
       "...               ...                 ...                ...   \n",
       "17875       Full-time    Mid-Senior level                      \n",
       "17876       Full-time    Mid-Senior level  Bachelor's Degree   \n",
       "17877       Full-time                                          \n",
       "17878        Contract      Not Applicable       Professional   \n",
       "17879       Full-time    Mid-Senior level                      \n",
       "\n",
       "                        industry              function  fraudulent  \n",
       "0                                            Marketing           0  \n",
       "1      Marketing and Advertising      Customer Service           0  \n",
       "2                                                                0  \n",
       "3              Computer Software                 Sales           0  \n",
       "4         Hospital & Health Care  Health Care Provider           0  \n",
       "...                          ...                   ...         ...  \n",
       "17875          Computer Software                 Sales           0  \n",
       "17876                   Internet   Accounting/Auditing           0  \n",
       "17877                                                            0  \n",
       "17878             Graphic Design                Design           0  \n",
       "17879          Computer Software           Engineering           0  \n",
       "\n",
       "[17880 rows x 10 columns]"
      ]
     },
     "execution_count": 31,
     "metadata": {},
     "output_type": "execute_result"
    }
   ],
   "source": [
    "df"
   ]
  },
  {
   "cell_type": "markdown",
   "metadata": {
    "id": "wfVfn5_RRM2d"
   },
   "source": [
    "Теперь для дальнейших вычислений переведем категориальные признаки в численные."
   ]
  },
  {
   "cell_type": "code",
   "execution_count": 32,
   "metadata": {
    "colab": {
     "base_uri": "https://localhost:8080/",
     "height": 443
    },
    "id": "eyyOQ1s1Q2Qm",
    "outputId": "00a852ed-44f5-4d87-a09d-e0bccfb99223"
   },
   "outputs": [
    {
     "data": {
      "text/html": [
       "<div>\n",
       "<style scoped>\n",
       "    .dataframe tbody tr th:only-of-type {\n",
       "        vertical-align: middle;\n",
       "    }\n",
       "\n",
       "    .dataframe tbody tr th {\n",
       "        vertical-align: top;\n",
       "    }\n",
       "\n",
       "    .dataframe thead th {\n",
       "        text-align: right;\n",
       "    }\n",
       "</style>\n",
       "<table border=\"1\" class=\"dataframe\">\n",
       "  <thead>\n",
       "    <tr style=\"text-align: right;\">\n",
       "      <th></th>\n",
       "      <th>location</th>\n",
       "      <th>telecommuting</th>\n",
       "      <th>has_company_logo</th>\n",
       "      <th>has_questions</th>\n",
       "      <th>employment_type</th>\n",
       "      <th>required_experience</th>\n",
       "      <th>required_education</th>\n",
       "      <th>industry</th>\n",
       "      <th>function</th>\n",
       "      <th>fraudulent</th>\n",
       "    </tr>\n",
       "  </thead>\n",
       "  <tbody>\n",
       "    <tr>\n",
       "      <th>0</th>\n",
       "      <td>2536</td>\n",
       "      <td>0</td>\n",
       "      <td>1</td>\n",
       "      <td>0</td>\n",
       "      <td>3</td>\n",
       "      <td>5</td>\n",
       "      <td>0</td>\n",
       "      <td>0</td>\n",
       "      <td>23</td>\n",
       "      <td>0</td>\n",
       "    </tr>\n",
       "    <tr>\n",
       "      <th>1</th>\n",
       "      <td>1074</td>\n",
       "      <td>0</td>\n",
       "      <td>1</td>\n",
       "      <td>0</td>\n",
       "      <td>2</td>\n",
       "      <td>7</td>\n",
       "      <td>0</td>\n",
       "      <td>76</td>\n",
       "      <td>8</td>\n",
       "      <td>0</td>\n",
       "    </tr>\n",
       "    <tr>\n",
       "      <th>2</th>\n",
       "      <td>1868</td>\n",
       "      <td>0</td>\n",
       "      <td>1</td>\n",
       "      <td>0</td>\n",
       "      <td>0</td>\n",
       "      <td>0</td>\n",
       "      <td>0</td>\n",
       "      <td>0</td>\n",
       "      <td>0</td>\n",
       "      <td>0</td>\n",
       "    </tr>\n",
       "    <tr>\n",
       "      <th>3</th>\n",
       "      <td>1704</td>\n",
       "      <td>0</td>\n",
       "      <td>1</td>\n",
       "      <td>0</td>\n",
       "      <td>2</td>\n",
       "      <td>6</td>\n",
       "      <td>2</td>\n",
       "      <td>23</td>\n",
       "      <td>32</td>\n",
       "      <td>0</td>\n",
       "    </tr>\n",
       "    <tr>\n",
       "      <th>4</th>\n",
       "      <td>1742</td>\n",
       "      <td>0</td>\n",
       "      <td>1</td>\n",
       "      <td>1</td>\n",
       "      <td>2</td>\n",
       "      <td>6</td>\n",
       "      <td>2</td>\n",
       "      <td>52</td>\n",
       "      <td>17</td>\n",
       "      <td>0</td>\n",
       "    </tr>\n",
       "    <tr>\n",
       "      <th>...</th>\n",
       "      <td>...</td>\n",
       "      <td>...</td>\n",
       "      <td>...</td>\n",
       "      <td>...</td>\n",
       "      <td>...</td>\n",
       "      <td>...</td>\n",
       "      <td>...</td>\n",
       "      <td>...</td>\n",
       "      <td>...</td>\n",
       "      <td>...</td>\n",
       "    </tr>\n",
       "    <tr>\n",
       "      <th>17875</th>\n",
       "      <td>167</td>\n",
       "      <td>0</td>\n",
       "      <td>1</td>\n",
       "      <td>1</td>\n",
       "      <td>2</td>\n",
       "      <td>6</td>\n",
       "      <td>0</td>\n",
       "      <td>23</td>\n",
       "      <td>32</td>\n",
       "      <td>0</td>\n",
       "    </tr>\n",
       "    <tr>\n",
       "      <th>17876</th>\n",
       "      <td>2735</td>\n",
       "      <td>0</td>\n",
       "      <td>1</td>\n",
       "      <td>1</td>\n",
       "      <td>2</td>\n",
       "      <td>6</td>\n",
       "      <td>2</td>\n",
       "      <td>62</td>\n",
       "      <td>1</td>\n",
       "      <td>0</td>\n",
       "    </tr>\n",
       "    <tr>\n",
       "      <th>17877</th>\n",
       "      <td>2876</td>\n",
       "      <td>0</td>\n",
       "      <td>0</td>\n",
       "      <td>0</td>\n",
       "      <td>2</td>\n",
       "      <td>0</td>\n",
       "      <td>0</td>\n",
       "      <td>0</td>\n",
       "      <td>0</td>\n",
       "      <td>0</td>\n",
       "    </tr>\n",
       "    <tr>\n",
       "      <th>17878</th>\n",
       "      <td>1046</td>\n",
       "      <td>0</td>\n",
       "      <td>0</td>\n",
       "      <td>1</td>\n",
       "      <td>1</td>\n",
       "      <td>7</td>\n",
       "      <td>7</td>\n",
       "      <td>49</td>\n",
       "      <td>10</td>\n",
       "      <td>0</td>\n",
       "    </tr>\n",
       "    <tr>\n",
       "      <th>17879</th>\n",
       "      <td>1093</td>\n",
       "      <td>0</td>\n",
       "      <td>1</td>\n",
       "      <td>1</td>\n",
       "      <td>2</td>\n",
       "      <td>6</td>\n",
       "      <td>0</td>\n",
       "      <td>23</td>\n",
       "      <td>13</td>\n",
       "      <td>0</td>\n",
       "    </tr>\n",
       "  </tbody>\n",
       "</table>\n",
       "<p>17880 rows × 10 columns</p>\n",
       "</div>"
      ],
      "text/plain": [
       "       location  telecommuting  has_company_logo  has_questions  \\\n",
       "0          2536              0                 1              0   \n",
       "1          1074              0                 1              0   \n",
       "2          1868              0                 1              0   \n",
       "3          1704              0                 1              0   \n",
       "4          1742              0                 1              1   \n",
       "...         ...            ...               ...            ...   \n",
       "17875       167              0                 1              1   \n",
       "17876      2735              0                 1              1   \n",
       "17877      2876              0                 0              0   \n",
       "17878      1046              0                 0              1   \n",
       "17879      1093              0                 1              1   \n",
       "\n",
       "       employment_type  required_experience  required_education  industry  \\\n",
       "0                    3                    5                   0         0   \n",
       "1                    2                    7                   0        76   \n",
       "2                    0                    0                   0         0   \n",
       "3                    2                    6                   2        23   \n",
       "4                    2                    6                   2        52   \n",
       "...                ...                  ...                 ...       ...   \n",
       "17875                2                    6                   0        23   \n",
       "17876                2                    6                   2        62   \n",
       "17877                2                    0                   0         0   \n",
       "17878                1                    7                   7        49   \n",
       "17879                2                    6                   0        23   \n",
       "\n",
       "       function  fraudulent  \n",
       "0            23           0  \n",
       "1             8           0  \n",
       "2             0           0  \n",
       "3            32           0  \n",
       "4            17           0  \n",
       "...         ...         ...  \n",
       "17875        32           0  \n",
       "17876         1           0  \n",
       "17877         0           0  \n",
       "17878        10           0  \n",
       "17879        13           0  \n",
       "\n",
       "[17880 rows x 10 columns]"
      ]
     },
     "execution_count": 32,
     "metadata": {},
     "output_type": "execute_result"
    }
   ],
   "source": [
    "categorical=df.select_dtypes('category').columns.tolist()\n",
    "from sklearn.preprocessing import LabelEncoder\n",
    "le=LabelEncoder()\n",
    "for i in categorical:\n",
    "    df[i]=le.fit_transform(df[i])\n",
    "df"
   ]
  },
  {
   "cell_type": "markdown",
   "metadata": {
    "id": "4UvLHa307xD8"
   },
   "source": [
    "\n",
    "# Проведение нормализации\n"
   ]
  },
  {
   "cell_type": "markdown",
   "metadata": {
    "id": "vQpVX1A673JR"
   },
   "source": [
    "Для текущего набора признаков нормализация не требуется(можно счить их уже нормализованными).\n",
    "\n",
    "\n"
   ]
  },
  {
   "cell_type": "markdown",
   "metadata": {
    "id": "8fmP9tu38ZBa"
   },
   "source": [
    "# Разбиение данных на обучающую и тестовую выборки"
   ]
  },
  {
   "cell_type": "markdown",
   "metadata": {
    "id": "Sicg6qNh9omW"
   },
   "source": [
    "Разобъем данные на обучающую и тестовую выборку в пропорции 60:40"
   ]
  },
  {
   "cell_type": "code",
   "execution_count": 33,
   "metadata": {
    "colab": {
     "base_uri": "https://localhost:8080/"
    },
    "id": "AB7cfonV8gFp",
    "outputId": "8b4529c8-b0aa-44ca-d264-65c6d4597c10"
   },
   "outputs": [
    {
     "data": {
      "text/plain": [
       "(10728, 7152)"
      ]
     },
     "execution_count": 33,
     "metadata": {},
     "output_type": "execute_result"
    }
   ],
   "source": [
    "x=df.drop(['fraudulent'],axis=1)\n",
    "y=df['fraudulent']\n",
    "from sklearn.model_selection import train_test_split\n",
    "x_train, x_test, y_train, y_test=train_test_split(x,y,random_state=1,test_size=0.4)\n",
    "N_trane, _ = x_train.shape\n",
    "N_test, _ = x_test.shape\n",
    "N_trane, N_test"
   ]
  },
  {
   "cell_type": "markdown",
   "metadata": {
    "id": "h1L82qFpgASA"
   },
   "source": [
    "# Запуск классификатора ближайших соседей"
   ]
  },
  {
   "cell_type": "markdown",
   "metadata": {
    "id": "aYHylWfHKxsZ"
   },
   "source": [
    "Для предсказания истинности вакансии воспользуемся методом k ближайших соседей."
   ]
  },
  {
   "cell_type": "code",
   "execution_count": 34,
   "metadata": {
    "colab": {
     "base_uri": "https://localhost:8080/",
     "height": 467
    },
    "id": "es7gRNntLFt5",
    "outputId": "5f07dc26-a96e-4544-a2fc-83486054f637"
   },
   "outputs": [
    {
     "data": {
      "text/plain": [
       "<sklearn.metrics._plot.confusion_matrix.ConfusionMatrixDisplay at 0x247a359d590>"
      ]
     },
     "execution_count": 34,
     "metadata": {},
     "output_type": "execute_result"
    },
    {
     "data": {
      "image/png": "[encoded data removed]",
      "text/plain": [
       "<Figure size 640x480 with 2 Axes>"
      ]
     },
     "metadata": {},
     "output_type": "display_data"
    }
   ],
   "source": [
    "from sklearn.neighbors import KNeighborsClassifier\n",
    "from sklearn.metrics import accuracy_score\n",
    "knn=KNeighborsClassifier(n_neighbors=5)\n",
    "knn.fit(x_train,y_train)\n",
    "y_train_pred = knn.predict(x_train)\n",
    "y_test_pred = knn.predict(x_test)\n",
    "from sklearn.metrics import ConfusionMatrixDisplay\n",
    "from sklearn.metrics import confusion_matrix\n",
    "disp=ConfusionMatrixDisplay(confusion_matrix(y_test_pred, y_test))\n",
    "disp.plot()"
   ]
  },
  {
   "cell_type": "markdown",
   "metadata": {
    "id": "g52wdSuALOtk"
   },
   "source": [
    "Для повышения точности модели имеет смысл рассмотреть иное количество k(количество соседей) в моделе.\n"
   ]
  },
  {
   "cell_type": "markdown",
   "metadata": {
    "id": "lkKFRlzLMwPI"
   },
   "source": [
    "# Вычисление ошибки на обучающей и тестовой выборках. Выбор оптимального значения гиперпараметра (к-ва ближайших соседей)"
   ]
  },
  {
   "cell_type": "code",
   "execution_count": 35,
   "metadata": {
    "colab": {
     "base_uri": "https://localhost:8080/"
    },
    "id": "k-HcfghWNG4U",
    "outputId": "4124b059-9c55-4701-b867-89efeda097a7"
   },
   "outputs": [
    {
     "name": "stdout",
     "output_type": "stream",
     "text": [
      "k = 1, accuracy = 0.9569351230425056\n",
      "k = 2, accuracy = 0.9623881431767338\n",
      "k = 3, accuracy = 0.9595917225950783\n",
      "k = 4, accuracy = 0.9616890380313199\n",
      "k = 5, accuracy = 0.9602908277404921\n",
      "k = 6, accuracy = 0.9609899328859061\n",
      "k = 7, accuracy = 0.9601510067114094\n",
      "k = 8, accuracy = 0.9615492170022372\n",
      "k = 9, accuracy = 0.960430648769575\n",
      "k = 10, accuracy = 0.9621085011185683\n",
      "k = 11, accuracy = 0.9619686800894854\n",
      "k = 12, accuracy = 0.9609899328859061\n",
      "k = 13, accuracy = 0.9602908277404921\n",
      "k = 14, accuracy = 0.9601510067114094\n",
      "k = 15, accuracy = 0.9601510067114094\n",
      "k = 16, accuracy = 0.959731543624161\n",
      "k = 17, accuracy = 0.9593120805369127\n",
      "k = 18, accuracy = 0.95917225950783\n",
      "k = 19, accuracy = 0.95917225950783\n"
     ]
    }
   ],
   "source": [
    "for k in range(1, 20):\n",
    "    knn = KNeighborsClassifier(n_neighbors=k)\n",
    "    knn.fit(x_train, y_train)\n",
    "    y_pred = knn.predict(x_test)\n",
    "    print('k = {}, accuracy = {}'.format(k, accuracy_score(y_pred, y_test)))"
   ]
  },
  {
   "cell_type": "markdown",
   "metadata": {
    "id": "apo0RRE2SsaS"
   },
   "source": [
    "Наилучшая точность достигается при k=2:"
   ]
  },
  {
   "cell_type": "code",
   "execution_count": 36,
   "metadata": {
    "colab": {
     "base_uri": "https://localhost:8080/"
    },
    "id": "Q2-lHcTfSykw",
    "outputId": "cddaf2fd-ad8a-43db-ac8a-16266d248340"
   },
   "outputs": [
    {
     "name": "stdout",
     "output_type": "stream",
     "text": [
      "err_train:  0.026938851603281133\n",
      "err_test:  0.03761185682326622\n",
      "acc_train:  0.9730611483967189\n",
      "acc_test:  0.9623881431767338\n"
     ]
    }
   ],
   "source": [
    "knn = KNeighborsClassifier(n_neighbors = 2)\n",
    "knn.fit(x_train, y_train)\n",
    "\n",
    "y_test_predict = knn.predict(x_test)\n",
    "y_train_pred = knn.predict(x_train)\n",
    "err_test  = np.mean(y_test  != y_test_predict)\n",
    "err_train = np.mean(y_train != y_train_pred)\n",
    "\n",
    "print(\"err_train: \", err_train)\n",
    "print(\"err_test: \", err_test)\n",
    "\n",
    "print(\"acc_train: \", 1-err_train)\n",
    "print(\"acc_test: \",  1-err_test)"
   ]
  },
  {
   "cell_type": "markdown",
   "metadata": {
    "id": "E-LDipvwTy71"
   },
   "source": [
    "Ошибка на тренировочной выборке при этом составила 2,7%, а на тестовой - 3,7%."
   ]
  },
  {
   "cell_type": "markdown",
   "metadata": {},
   "source": [
    "# Коррелированные переменные\n"
   ]
  },
  {
   "cell_type": "code",
   "execution_count": 37,
   "metadata": {},
   "outputs": [
    {
     "data": {
      "text/plain": [
       "<Axes: >"
      ]
     },
     "execution_count": 37,
     "metadata": {},
     "output_type": "execute_result"
    },
    {
     "data": {
      "image/png": "[encoded data removed]",
      "text/plain": [
       "<Figure size 640x480 with 2 Axes>"
      ]
     },
     "metadata": {},
     "output_type": "display_data"
    }
   ],
   "source": [
    "corr_matrix = df.corr()\n",
    "sns.heatmap(corr_matrix , square=True, vmin = -1, vmax = 1,cmap=\"coolwarm\")"
   ]
  },
  {
   "cell_type": "markdown",
   "metadata": {},
   "source": [
    "Строгой или значимой корреляции нет."
   ]
  },
  {
   "cell_type": "markdown",
   "metadata": {},
   "source": [
    "# Результат"
   ]
  },
  {
   "cell_type": "markdown",
   "metadata": {},
   "source": [
    "Для данного датасета и метода k наименьших соседей, наиболее эфективные результаты получились при выборе k=2. Достигаемая ошибка на тренировочной выборке при этом составила 2,7%, а на тестовой - 3,7%."
   ]
  }
 ],
 "metadata": {
  "colab": {
   "provenance": [],
   "toc_visible": true
  },
  "kernelspec": {
   "display_name": "Python 3",
   "name": "python3"
  },
  "language_info": {
   "codemirror_mode": {
    "name": "ipython",
    "version": 3
   },
   "file_extension": ".py",
   "mimetype": "text/x-python",
   "name": "python",
   "nbconvert_exporter": "python",
   "pygments_lexer": "ipython3",
   "version": "3.11.0"
  }
 },
 "nbformat": 4,
 "nbformat_minor": 0
}
